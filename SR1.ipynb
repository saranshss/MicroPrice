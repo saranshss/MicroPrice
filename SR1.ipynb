{
 "cells": [
  {
   "cell_type": "code",
   "execution_count": 1,
   "metadata": {},
   "outputs": [],
   "source": [
    "import numpy as np\n",
    "import pandas as pd\n",
    "\n",
    "import matplotlib.pyplot as plt\n",
    "import os\n",
    "from matplotlib import animation\n",
    "\n",
    "from scipy.linalg import block_diag\n",
    "import matplotlib.pyplot as plt\n",
    "\n",
    "pd.set_option(\"display.max_columns\", None)\n",
    "\n",
    "ticksize=0.005"
   ]
  },
  {
   "cell_type": "code",
   "execution_count": 2,
   "metadata": {},
   "outputs": [],
   "source": [
    "def read_data():\n",
    "    \n",
    "    # read data\n",
    "    data_directory = './mbo_data/'\n",
    "    df_list = []\n",
    "\n",
    "    directory = os.fsencode(data_directory)\n",
    "    for file in os.listdir(directory):\n",
    "        filename = os.fsdecode(file)\n",
    "        if filename.startswith('SR1J2') & filename.endswith('.csv'):\n",
    "            temp = pd.read_csv(data_directory + filename, header=0, quotechar='\\'',on_bad_lines='skip',engine='python')\n",
    "            temp['instrument'] = filename.split('.')[0]\n",
    "            temp['product_group'] = filename[0:2]\n",
    "            temp['front_month'] = filename[2:4]\n",
    "            df_list.append(temp)\n",
    "\n",
    "    df = pd.concat(df_list, axis=0).reset_index()\n",
    "\n",
    "    # handle time information\n",
    "\n",
    "    df.loc[df.timestamp.str.len() < 21, 'timestamp'] = df.loc[df.timestamp.str.len() < 21, 'timestamp'] + '.0'  # pad timestamps that do not contain fractional seconds\n",
    "    df['time'] = pd.to_datetime(df['timestamp'], format='%Y-%b-%d %H:%M:%S.%f', utc=True).dt.tz_convert('America/Chicago')\n",
    "    df['time_of_day'] = df.time.dt.time\n",
    "    df['trade_date'] = (df.time + pd.Timedelta(hours=7, minutes=30)).dt.strftime('%Y%m%d')\n",
    "    df['hour'] = (df.time + pd.Timedelta(hours=7)).dt.hour  # map hour of day to hours since the start of the trading day\n",
    "    df['weeks_until_expiration'] = (df.days_until_expiration/7).astype('int')\n",
    "    \n",
    "    df['next_tick'] = 0  # 1 means quote move was up for buys/down for sells or down for buys/up for sells\n",
    "    df.loc[df.same_time_until_next_quote_move_through_ms < 0, 'next_tick'] = 1\n",
    "    df.loc[df.same_time_until_next_quote_move_through_ms >= 0, 'next_tick'] = -1\n",
    "\n",
    "    \n",
    "    #print(df.loc[df.num_fills == df.num_orders_same_1, :].count())\n",
    "    #print(df.loc[df.smallest_order_size_filled == 1, :].count())\n",
    "\n",
    "    ##df = df.loc[(df.num_fills == df.num_orders_same_1) | (df.smallest_order_size_filled == 1), :]\n",
    "    \n",
    "    return df\n",
    "df = read_data()"
   ]
  },
  {
   "cell_type": "code",
   "execution_count": 3,
   "metadata": {},
   "outputs": [],
   "source": [
    "def get_ask(y) :\n",
    "    if y.trade_side == -1 :\n",
    "        return y.price_contra_1\n",
    "    else :\n",
    "        return y.price_same_1\n",
    "    \n",
    "def get_ask_2(y) :\n",
    "    if y.trade_side == -1 :\n",
    "        return y.price_contra_2\n",
    "    else :\n",
    "        return y.price_same_2\n",
    "\n",
    "def get_ask_3(y) :\n",
    "    if y.trade_side == -1 :\n",
    "        return y.price_contra_3\n",
    "    else :\n",
    "        return y.price_same_3\n",
    "\n",
    "def get_bid(y) :\n",
    "    if y.trade_side == 1 :\n",
    "        return y.price_contra_1\n",
    "    else :\n",
    "        return y.price_same_1\n",
    "    \n",
    "def get_bid_2(y) :\n",
    "    if y.trade_side == 1 :\n",
    "        return y.price_contra_2\n",
    "    else :\n",
    "        return y.price_same_2\n",
    "    \n",
    "def get_bid_3(y) :\n",
    "    if y.trade_side == 1 :\n",
    "        return y.price_contra_3\n",
    "    else :\n",
    "        return y.price_same_3 \n",
    "\n",
    "def get_ask_size(y) :\n",
    "    if y.trade_side == -1 :\n",
    "        return y.size_contra_1\n",
    "    else :\n",
    "        return y.size_same_1\n",
    "\n",
    "def get_ask_size_2(y) :\n",
    "    if y.trade_side == -1 :\n",
    "        return y.size_contra_2\n",
    "    else :\n",
    "        return y.size_same_2\n",
    "\n",
    "def get_ask_size_3(y) :\n",
    "    if y.trade_side == -1 :\n",
    "        return y.size_contra_3\n",
    "    else :\n",
    "        return y.size_same_3  \n",
    "    \n",
    "def get_bid_size(y) :\n",
    "    if y.trade_side == 1 :\n",
    "        return y.size_contra_1\n",
    "    else :\n",
    "        return y.size_same_1\n",
    "\n",
    "def get_bid_size_2(y) :\n",
    "    if y.trade_side == 1 :\n",
    "        return y.size_contra_2\n",
    "    else :\n",
    "        return y.size_same_2\n",
    "    \n",
    "def get_bid_size_3(y) :\n",
    "    if y.trade_side == 1 :\n",
    "        return y.size_contra_3\n",
    "    else :\n",
    "        return y.size_same_3"
   ]
  },
  {
   "cell_type": "code",
   "execution_count": 4,
   "metadata": {},
   "outputs": [
    {
     "name": "stderr",
     "output_type": "stream",
     "text": [
      "C:\\Users\\saran\\AppData\\Local\\Temp/ipykernel_17864/3343022885.py:8: SettingWithCopyWarning: \n",
      "A value is trying to be set on a copy of a slice from a DataFrame.\n",
      "Try using .loc[row_indexer,col_indexer] = value instead\n",
      "\n",
      "See the caveats in the documentation: https://pandas.pydata.org/pandas-docs/stable/user_guide/indexing.html#returning-a-view-versus-a-copy\n",
      "  df1[\"size_same_1\"] = df1[\"direct_size_same_1\"] + df1[\"implied_size_same_1\"]\n",
      "C:\\Users\\saran\\AppData\\Local\\Temp/ipykernel_17864/3343022885.py:9: SettingWithCopyWarning: \n",
      "A value is trying to be set on a copy of a slice from a DataFrame.\n",
      "Try using .loc[row_indexer,col_indexer] = value instead\n",
      "\n",
      "See the caveats in the documentation: https://pandas.pydata.org/pandas-docs/stable/user_guide/indexing.html#returning-a-view-versus-a-copy\n",
      "  df1[\"size_same_2\"] = df1[\"direct_size_same_2\"] + df1[\"implied_size_same_2\"]\n",
      "C:\\Users\\saran\\AppData\\Local\\Temp/ipykernel_17864/3343022885.py:10: SettingWithCopyWarning: \n",
      "A value is trying to be set on a copy of a slice from a DataFrame.\n",
      "Try using .loc[row_indexer,col_indexer] = value instead\n",
      "\n",
      "See the caveats in the documentation: https://pandas.pydata.org/pandas-docs/stable/user_guide/indexing.html#returning-a-view-versus-a-copy\n",
      "  df1[\"size_same_3\"] = df1[\"direct_size_same_3\"] + df1[\"implied_size_same_3\"]\n",
      "C:\\Users\\saran\\AppData\\Local\\Temp/ipykernel_17864/3343022885.py:12: SettingWithCopyWarning: \n",
      "A value is trying to be set on a copy of a slice from a DataFrame.\n",
      "Try using .loc[row_indexer,col_indexer] = value instead\n",
      "\n",
      "See the caveats in the documentation: https://pandas.pydata.org/pandas-docs/stable/user_guide/indexing.html#returning-a-view-versus-a-copy\n",
      "  df1[\"size_contra_1\"] = df1[\"direct_size_contra_1\"] + df1[\"implied_size_contra_1\"]\n",
      "C:\\Users\\saran\\AppData\\Local\\Temp/ipykernel_17864/3343022885.py:13: SettingWithCopyWarning: \n",
      "A value is trying to be set on a copy of a slice from a DataFrame.\n",
      "Try using .loc[row_indexer,col_indexer] = value instead\n",
      "\n",
      "See the caveats in the documentation: https://pandas.pydata.org/pandas-docs/stable/user_guide/indexing.html#returning-a-view-versus-a-copy\n",
      "  df1[\"size_contra_2\"] = df1[\"direct_size_contra_2\"] + df1[\"implied_size_contra_2\"]\n",
      "C:\\Users\\saran\\AppData\\Local\\Temp/ipykernel_17864/3343022885.py:14: SettingWithCopyWarning: \n",
      "A value is trying to be set on a copy of a slice from a DataFrame.\n",
      "Try using .loc[row_indexer,col_indexer] = value instead\n",
      "\n",
      "See the caveats in the documentation: https://pandas.pydata.org/pandas-docs/stable/user_guide/indexing.html#returning-a-view-versus-a-copy\n",
      "  df1[\"size_contra_3\"] = df1[\"direct_size_contra_3\"] + df1[\"implied_size_contra_3\"]\n",
      "C:\\Users\\saran\\AppData\\Local\\Temp/ipykernel_17864/3343022885.py:16: SettingWithCopyWarning: \n",
      "A value is trying to be set on a copy of a slice from a DataFrame.\n",
      "Try using .loc[row_indexer,col_indexer] = value instead\n",
      "\n",
      "See the caveats in the documentation: https://pandas.pydata.org/pandas-docs/stable/user_guide/indexing.html#returning-a-view-versus-a-copy\n",
      "  df1[\"VWAP\"] = (df1[\"price_same_1\"]*df1[\"size_contra_1\"] + df1[\"price_same_2\"] * df1[\"size_contra_2\"] + df1[\"price_same_3\"]\\\n",
      "C:\\Users\\saran\\AppData\\Local\\Temp/ipykernel_17864/3343022885.py:21: SettingWithCopyWarning: \n",
      "A value is trying to be set on a copy of a slice from a DataFrame.\n",
      "Try using .loc[row_indexer,col_indexer] = value instead\n",
      "\n",
      "See the caveats in the documentation: https://pandas.pydata.org/pandas-docs/stable/user_guide/indexing.html#returning-a-view-versus-a-copy\n",
      "  df1['ask'] = df1.apply(lambda x : get_ask(x),axis=1)\n",
      "C:\\Users\\saran\\AppData\\Local\\Temp/ipykernel_17864/3343022885.py:23: SettingWithCopyWarning: \n",
      "A value is trying to be set on a copy of a slice from a DataFrame.\n",
      "Try using .loc[row_indexer,col_indexer] = value instead\n",
      "\n",
      "See the caveats in the documentation: https://pandas.pydata.org/pandas-docs/stable/user_guide/indexing.html#returning-a-view-versus-a-copy\n",
      "  df1['bid'] = df1.apply(lambda x : get_bid(x),axis=1)\n",
      "C:\\Users\\saran\\AppData\\Local\\Temp/ipykernel_17864/3343022885.py:25: SettingWithCopyWarning: \n",
      "A value is trying to be set on a copy of a slice from a DataFrame.\n",
      "Try using .loc[row_indexer,col_indexer] = value instead\n",
      "\n",
      "See the caveats in the documentation: https://pandas.pydata.org/pandas-docs/stable/user_guide/indexing.html#returning-a-view-versus-a-copy\n",
      "  df1['bs'] = df1.apply(lambda x : get_bid_size(x),axis=1)\n",
      "C:\\Users\\saran\\AppData\\Local\\Temp/ipykernel_17864/3343022885.py:26: SettingWithCopyWarning: \n",
      "A value is trying to be set on a copy of a slice from a DataFrame.\n",
      "Try using .loc[row_indexer,col_indexer] = value instead\n",
      "\n",
      "See the caveats in the documentation: https://pandas.pydata.org/pandas-docs/stable/user_guide/indexing.html#returning-a-view-versus-a-copy\n",
      "  df1['bs2'] = df1.apply(lambda x : get_bid_size_2(x),axis=1)\n",
      "C:\\Users\\saran\\AppData\\Local\\Temp/ipykernel_17864/3343022885.py:27: SettingWithCopyWarning: \n",
      "A value is trying to be set on a copy of a slice from a DataFrame.\n",
      "Try using .loc[row_indexer,col_indexer] = value instead\n",
      "\n",
      "See the caveats in the documentation: https://pandas.pydata.org/pandas-docs/stable/user_guide/indexing.html#returning-a-view-versus-a-copy\n",
      "  df1['bs3'] = df1.apply(lambda x : get_bid_size_3(x),axis=1)\n"
     ]
    }
   ],
   "source": [
    "df1 = df\n",
    "df1 = df1[[\"timestamp\",\"trade_side\",\"price_same_1\",\"price_same_2\",\"price_same_3\",\"price_contra_1\",\\\n",
    "          \"price_contra_2\",\"price_contra_3\",\"direct_size_same_1\",\"direct_size_same_2\",\"direct_size_same_3\",\\\n",
    "          \"implied_size_same_1\",\"implied_size_same_2\",\"implied_size_same_3\",\\\n",
    "          \"direct_size_contra_1\",\"direct_size_contra_2\",\"direct_size_contra_3\",\\\n",
    "          \"implied_size_contra_1\",\"implied_size_contra_2\",\"implied_size_contra_3\",\"time\"]]\n",
    "\n",
    "df1[\"size_same_1\"] = df1[\"direct_size_same_1\"] + df1[\"implied_size_same_1\"]\n",
    "df1[\"size_same_2\"] = df1[\"direct_size_same_2\"] + df1[\"implied_size_same_2\"]\n",
    "df1[\"size_same_3\"] = df1[\"direct_size_same_3\"] + df1[\"implied_size_same_3\"]\n",
    "\n",
    "df1[\"size_contra_1\"] = df1[\"direct_size_contra_1\"] + df1[\"implied_size_contra_1\"]\n",
    "df1[\"size_contra_2\"] = df1[\"direct_size_contra_2\"] + df1[\"implied_size_contra_2\"]\n",
    "df1[\"size_contra_3\"] = df1[\"direct_size_contra_3\"] + df1[\"implied_size_contra_3\"]\n",
    "\n",
    "df1[\"VWAP\"] = (df1[\"price_same_1\"]*df1[\"size_contra_1\"] + df1[\"price_same_2\"] * df1[\"size_contra_2\"] + df1[\"price_same_3\"]\\\n",
    "              * df1[\"size_contra_3\"] + df1[\"price_contra_1\"] * df1[\"size_same_1\"] + df1[\"price_contra_2\"] * \\\n",
    "              df1[\"size_same_2\"] + df1[\"price_contra_3\"] * df1[\"size_same_3\"])/(df1[\"size_same_1\"]+ \\\n",
    "              df1[\"size_same_2\"] +df1[\"size_same_3\"]+ df1[\"size_contra_1\"]+df1[\"size_contra_2\"]+df1[\"size_contra_3\"])\n",
    "\n",
    "df1['ask'] = df1.apply(lambda x : get_ask(x),axis=1)\n",
    "\n",
    "df1['bid'] = df1.apply(lambda x : get_bid(x),axis=1)\n",
    "\n",
    "df1['bs'] = df1.apply(lambda x : get_bid_size(x),axis=1)\n",
    "df1['bs2'] = df1.apply(lambda x : get_bid_size_2(x),axis=1)\n",
    "df1['bs3'] = df1.apply(lambda x : get_bid_size_3(x),axis=1)\n",
    "\n",
    "df1 = df1[df1['bs'] + df1['bs2'] + df1['bs3'] > 100]\n",
    "\n",
    "df1['as'] = df1.apply(lambda x : get_ask_size(x),axis=1)\n",
    "df1['as2'] = df1.apply(lambda x : get_ask_size_2(x),axis=1)\n",
    "df1['as3'] = df1.apply(lambda x : get_ask_size_3(x),axis=1)\n",
    "\n",
    "df1 = df1[df1['as'] + df1['as2'] + df1['as3'] > 100]\n",
    "df1['mid']=(df1['bid'].astype(float)+df1['ask'].astype(float))/2\n",
    "\n",
    "df1['V_bid'] = df1['bs'].astype(float) + df1['bs2'].astype(float) * np.exp(-0.5) + df1['bs3'].astype(float) * np.exp(-1)\n",
    "df1['V_ask'] = df1['as'].astype(float) + df1['as2'].astype(float) * np.exp(-0.5) + df1['as3'].astype(float) * np.exp(-1)\n",
    "\n",
    "# df1['imb']=(df1['bs'].astype(float))/(df1['bs'].astype(float)+df1['as'].astype(float))\n",
    "df1['imb']=(df1['V_bid'])/(df1['V_bid']+df1['V_ask'])\n",
    "\n",
    "df1['wmid']=df1['ask'].astype(float)*df1['imb']+df1['bid'].astype(float)*(1-df1['imb'])\n",
    "df1['spread'] = df1['ask']- df1['bid']\n",
    "\n",
    "df1[\"timestamp\"] = pd.to_datetime(df1[\"timestamp\"])\n",
    "df2 = df1[(df1[\"timestamp\"].dt.hour >= 10) & (df1[\"timestamp\"].dt.hour <= 19)]"
   ]
  },
  {
   "cell_type": "code",
   "execution_count": 5,
   "metadata": {},
   "outputs": [
    {
     "data": {
      "text/plain": [
       "array([-0.005 , -0.005 ,  0.0025,  0.0025,  0.005 ,  0.005 ,  0.01  ,\n",
       "        0.01  ,  0.015 ,  0.015 ])"
      ]
     },
     "execution_count": 5,
     "metadata": {},
     "output_type": "execute_result"
    }
   ],
   "source": [
    "np.unique(df1.spread)"
   ]
  },
  {
   "cell_type": "code",
   "execution_count": 72,
   "metadata": {},
   "outputs": [],
   "source": [
    "def prep_data_sym(T,n_imb,dt,n_spread):\n",
    "    \n",
    "    # adds the spread and mid prices\n",
    "    T['spread']=np.round((T['ask']-T['bid'])/ticksize)*ticksize\n",
    "    T['mid']=(T['bid']+T['ask'])/2\n",
    "    \n",
    "    #filter out spreads >= n_spread\n",
    "    T = T.loc[(T.spread <= n_spread*ticksize) & (T.spread>0)]\n",
    "#     T['imb']=T['bs'] /(T['bs'] + T['as'])\n",
    "\n",
    "    T['imb']=(T['bs']*np.exp(0) +  T['bs2'] * np.exp(-1) + T['bs3']* np.exp(-2))/((T['bs']*np.exp(0) +  T['bs2']* np.exp(-1) + T['bs3']* np.exp(-2) + T['as']*np.exp(0) + T['as2']* np.exp(-1) + T['as3']* np.exp(-2)))\n",
    "    #discretize imbalance into percentiles\n",
    "    T['imb_bucket'] = pd.qcut(T['imb'], n_imb, labels=False, duplicates='drop')\n",
    "    T['next_mid']=T['mid'].shift(-dt)\n",
    "    #step ahead state variables\n",
    "    T['next_spread']=T['spread'].shift(-dt)\n",
    "    T['next_time']=T['time'].shift(-dt)\n",
    "    T['next_imb_bucket']=T['imb_bucket'].shift(-dt)\n",
    "    # step ahead change in price\n",
    "    \n",
    "    T['dM']=np.round((T['next_mid']-T['mid'])/ticksize*4)*ticksize/4\n",
    "    T = T.loc[(abs(T.dM) == ticksize) | (T.dM == 0)]\n",
    "    print(np.unique(T['dM'], return_counts=True))\n",
    "    # symetrize data\n",
    "    T2 = T.copy(deep=True)\n",
    "    T2['imb_bucket']=n_imb-1-T2['imb_bucket']\n",
    "    T2['next_imb_bucket']=n_imb-1-T2['next_imb_bucket']\n",
    "    T2['dM']=-T2['dM']\n",
    "    T2['mid']=-T2['mid']\n",
    "    T3=pd.concat([T,T2])\n",
    "    T3.index = pd.RangeIndex(len(T3.index)) \n",
    "    return T3,ticksize"
   ]
  },
  {
   "cell_type": "code",
   "execution_count": 73,
   "metadata": {},
   "outputs": [],
   "source": [
    "def estimate(T):\n",
    "    no_move=T[T['dM']==0]\n",
    "    no_move_counts=no_move.pivot_table(index=[ 'next_imb_bucket'], \n",
    "                     columns=['spread', 'imb_bucket'], \n",
    "                     values='time',\n",
    "                     fill_value=0, \n",
    "                     aggfunc='count').unstack()\n",
    "    Q_counts=np.resize(np.array(no_move_counts[0:(n_imb*n_imb)]),(n_imb,n_imb))\n",
    "    # loop over all spreads and add block matrices\n",
    "    for i in range(1,n_spread):\n",
    "        Qi=np.resize(np.array(no_move_counts[(i*n_imb*n_imb):(i+1)*(n_imb*n_imb)]),(n_imb,n_imb))\n",
    "        Q_counts=block_diag(Q_counts,Qi)\n",
    "    #print Q_counts\n",
    "    move_counts=T[(T['dM']!=0)].pivot_table(index=['dM'], \n",
    "                         columns=['spread', 'imb_bucket'], \n",
    "                         values='time',\n",
    "                         fill_value=0, \n",
    "                         aggfunc='count').unstack()\n",
    "    R_counts=np.resize(np.array(move_counts),(n_imb*n_spread,2))\n",
    "    T1=np.concatenate((Q_counts,R_counts),axis=1).astype(float)\n",
    "    for i in range(0,n_imb*n_spread):\n",
    "        T1[i]=T1[i]/T1[i].sum()\n",
    "    Q=T1[:,0:(n_imb*n_spread)]\n",
    "    R1=T1[:,(n_imb*n_spread):]\n",
    "\n",
    "    K=np.array([-ticksize,ticksize])\n",
    "    move_counts=T[(T['dM']!=0)].pivot_table(index=['spread','imb_bucket'], \n",
    "                     columns=['next_spread', 'next_imb_bucket'], \n",
    "                     values='time',\n",
    "                     fill_value=0, \n",
    "                     aggfunc='count') #.unstack()\n",
    "\n",
    "    R2_counts=np.resize(np.array(move_counts),(n_imb*n_spread,n_imb*n_spread))\n",
    "    T2=np.concatenate((Q_counts,R2_counts),axis=1).astype(float)\n",
    "\n",
    "    for i in range(0,n_imb*n_spread):\n",
    "        T2[i]=T2[i]/T2[i].sum()\n",
    "    R2=T2[:,(n_imb*n_spread):]\n",
    "    Q2=T2[:,0:(n_imb*n_spread)]\n",
    "    G1=np.dot(np.dot(np.linalg.inv(np.eye(n_imb*n_spread)-Q),R1),K)\n",
    "    B=np.dot(np.linalg.inv(np.eye(n_imb*n_spread)-Q),R2)\n",
    "\n",
    "    return G1,B,Q,Q2,R1,R2,K"
   ]
  },
  {
   "cell_type": "code",
   "execution_count": 74,
   "metadata": {},
   "outputs": [],
   "source": [
    "def plot_Gstar(G1,B,T):\n",
    "    G2=np.dot(B,G1)+G1\n",
    "    G3=G2+np.dot(np.dot(B,B),G1)\n",
    "    G4=G3+np.dot(np.dot(np.dot(B,B),B),G1)\n",
    "    G5=G4+np.dot(np.dot(np.dot(np.dot(B,B),B),B),G1)\n",
    "    G6=G5+np.dot(np.dot(np.dot(np.dot(np.dot(B,B),B),B),B),G1)\n",
    "    plt.plot(imb,np.linspace(-0.005,0.005,n_imb)*0,label='Mid adj',marker='o')\n",
    "    plt.plot(imb,np.linspace(-ticksize/2,ticksize/2,n_imb),label='Weighted mid adj',marker='o')\n",
    "    for i in range(0,n_spread):\n",
    "        plt.plot(imb,G6[(0+i*n_imb):(n_imb+i*n_imb)],label=\"spread = \"+str(i+1)+\" tick adj\",marker='o')\n",
    "#     plt.ylim(-0.01,0.01)\n",
    "    plt.legend(loc='upper left')\n",
    "    plt.title('Adjustments')\n",
    "    plt.xlabel('Imbalance')\n",
    "    return G6"
   ]
  },
  {
   "cell_type": "code",
   "execution_count": 75,
   "metadata": {},
   "outputs": [
    {
     "name": "stdout",
     "output_type": "stream",
     "text": [
      "(array([-0.005,  0.   ,  0.005]), array([  436, 14011,   441], dtype=int64))\n"
     ]
    },
    {
     "data": {
      "text/plain": [
       "<matplotlib.legend.Legend at 0x2e0330c1e20>"
      ]
     },
     "execution_count": 75,
     "metadata": {},
     "output_type": "execute_result"
    },
    {
     "data": {
      "image/png": "[encoded data removed]",
      "text/plain": [
       "<Figure size 432x288 with 1 Axes>"
      ]
     },
     "metadata": {
      "needs_background": "light"
     },
     "output_type": "display_data"
    }
   ],
   "source": [
    "n_imb=50\n",
    "n_spread=1\n",
    "dt=1\n",
    "pd.set_option('mode.chained_assignment', None)\n",
    "import warnings\n",
    "warnings.simplefilter(action='ignore', category=UserWarning)\n",
    "T,ticksize=prep_data_sym(df2,n_imb,dt,n_spread)\n",
    "\n",
    "T.sort_values(by=['timestamp'],inplace=True)\n",
    "D = T.copy().tail(29742 - 18000)\n",
    "\n",
    "D[\"MidMove\"] = np.abs(D[\"mid\"]).shift(-50) - np.abs(D[\"mid\"])\n",
    "tst = D[[\"imb\",\"MidMove\"]]\n",
    "\n",
    "tst['imb_bucket'] = pd.qcut(tst['imb'], 50, labels=False, duplicates='drop')\n",
    "k = tst.groupby(['imb_bucket']).mean()\n",
    "\n",
    "imb=np.linspace(0,1,n_imb)\n",
    "G1,B,Q,Q2,R1,R2,K=estimate(T.head(18000))\n",
    "G6=plot_Gstar(G1,B,T)\n",
    "plt.plot(k[\"imb\"],k[\"MidMove\"],label=\"Emperical 25th change\")\n",
    "plt.legend()"
   ]
  },
  {
   "cell_type": "code",
   "execution_count": 76,
   "metadata": {},
   "outputs": [
    {
     "data": {
      "image/png": "[encoded data removed]",
      "text/plain": [
       "<Figure size 432x288 with 1 Axes>"
      ]
     },
     "metadata": {
      "needs_background": "light"
     },
     "output_type": "display_data"
    }
   ],
   "source": [
    "plt.imshow(R2, cmap='viridis', interpolation='nearest')\n",
    "plt.xlabel(\"Next imbalance bucket\")\n",
    "plt.ylabel(\"Current imbalance bucket\")\n",
    "plt.title(\"Heat map of transition matrix in case of a mid-price changes\")\n",
    "plt.show()"
   ]
  },
  {
   "cell_type": "code",
   "execution_count": 77,
   "metadata": {},
   "outputs": [
    {
     "data": {
      "image/png": "[encoded data removed]",
      "text/plain": [
       "<Figure size 432x288 with 1 Axes>"
      ]
     },
     "metadata": {
      "needs_background": "light"
     },
     "output_type": "display_data"
    }
   ],
   "source": [
    "plt.imshow(Q2, cmap='viridis', interpolation='nearest')\n",
    "plt.xlabel(\"Next imbalance bucket\")\n",
    "plt.ylabel(\"Current imbalance bucket\")\n",
    "plt.title(\"Heat map of actual transition matrix\")\n",
    "plt.show()"
   ]
  },
  {
   "cell_type": "code",
   "execution_count": 78,
   "metadata": {},
   "outputs": [
    {
     "data": {
      "text/plain": [
       "Text(0.5, 0, 'Imbalance')"
      ]
     },
     "execution_count": 78,
     "metadata": {},
     "output_type": "execute_result"
    },
    {
     "data": {
      "image/png": "[encoded data removed]",
      "text/plain": [
       "<Figure size 432x288 with 1 Axes>"
      ]
     },
     "metadata": {
      "needs_background": "light"
     },
     "output_type": "display_data"
    }
   ],
   "source": [
    "W=np.linalg.matrix_power(B,100)\n",
    "for i in range(0,n_spread):\n",
    "    plt.plot(imb,W[0][(0+i*n_imb):(n_imb+i*n_imb)],label=\"spread = \"+str(i+1)+\" tick \",marker='o')\n",
    "    \n",
    "plt.legend(loc='upper left')\n",
    "plt.title('Stationary Distribution')\n",
    "plt.xlabel('Imbalance')"
   ]
  },
  {
   "cell_type": "code",
   "execution_count": null,
   "metadata": {},
   "outputs": [],
   "source": [
    "\n",
    "fig,axs = plt.subplots()\n",
    "n = len(df1)\n",
    "\n",
    "\n",
    "def animate(i):\n",
    "    y=df1.iloc[i]\n",
    "    axs.clear()\n",
    "    ask_1 = 0\n",
    "    ask_2 = 0\n",
    "    ask_3 = 0\n",
    "    \n",
    "    bid_1 = 0\n",
    "    bid_2 = 0\n",
    "    bid_3 = 0\n",
    "    \n",
    "    bid_size_1 = 0\n",
    "    bid_size_2 = 0\n",
    "    bid_size_3 = 0\n",
    "    \n",
    "    ask_size_1 = 0\n",
    "    ask_size_2 = 0\n",
    "    ask_size_3 = 0\n",
    "    \n",
    "    \n",
    "    if y[\"trade_side\"] == 1 :\n",
    "        ask_1 = y[\"price_same_1\"]\n",
    "        ask_2 = y[\"price_same_2\"]\n",
    "        ask_3 = y[\"price_same_3\"]\n",
    "        ask_size_1 = y[\"size_same_1\"]\n",
    "        ask_size_2 = y[\"size_same_2\"]\n",
    "        ask_size_3 = y[\"size_same_3\"]\n",
    "\n",
    "        bid_1 = y[\"price_contra_1\"]\n",
    "        bid_2 = y[\"price_contra_2\"]\n",
    "        bid_3 = y[\"price_contra_3\"]\n",
    "        bid_size_1 = y[\"size_contra_1\"]\n",
    "        bid_size_2 = y[\"size_contra_2\"]\n",
    "        bid_size_3 = y[\"size_contra_3\"]\n",
    "\n",
    "    else :\n",
    "        bid_1 = y[\"price_same_1\"]\n",
    "        bid_2 = y[\"price_same_2\"]\n",
    "        bid_3 = y[\"price_same_3\"]\n",
    "        bid_size_1 = y[\"size_same_1\"]\n",
    "        bid_size_2 = y[\"size_same_2\"]\n",
    "        bid_size_3 = y[\"size_same_3\"]\n",
    "\n",
    "        ask_1 = y[\"price_contra_1\"]\n",
    "        ask_2 = y[\"price_contra_2\"]\n",
    "        ask_3 = y[\"price_contra_3\"]\n",
    "        ask_size_1 = y[\"size_contra_1\"]\n",
    "        ask_size_2 = y[\"size_contra_2\"]\n",
    "        ask_size_3 = y[\"size_contra_3\"]\n",
    "    \n",
    "    mid = (bid_1 + ask_1)/2\n",
    "    vwap = y.VWAP\n",
    "    if vwap < bid_1 : vwap = bid_1\n",
    "    elif vwap > ask_1 : vwap = ask_1\n",
    "    \n",
    "    plt.bar((bid_1,bid_2,bid_3,ask_1,ask_2,ask_3),\\\n",
    "            (bid_size_1,bid_size_2,bid_size_3,ask_size_1,ask_size_2,ask_size_3), width=0.001,\\\n",
    "            color=['green', 'green', 'green','red', 'red', 'red','blue'])\n",
    "    plt.axvline(x = vwap, color = 'b', label = 'VWAP',ls='-.')\n",
    "    plt.axvline(x = mid, color = 'maroon', label = 'Mid-price',ls='-')\n",
    "    plt.ylim(0,2000)\n",
    "    plt.legend()\n",
    "\n",
    "anim=animation.FuncAnimation(fig,animate,repeat=False,blit=False,frames=100,\n",
    "                             interval=10)\n",
    "anim.save('.animation_ZTU2.gif', writer='imagemagick', fps=60)\n"
   ]
  },
  {
   "cell_type": "code",
   "execution_count": null,
   "metadata": {},
   "outputs": [],
   "source": [
    "plt.plot(df1.wmid)"
   ]
  },
  {
   "cell_type": "code",
   "execution_count": null,
   "metadata": {},
   "outputs": [],
   "source": [
    "plt.plot(df1.imb)"
   ]
  },
  {
   "cell_type": "code",
   "execution_count": null,
   "metadata": {},
   "outputs": [],
   "source": []
  },
  {
   "cell_type": "code",
   "execution_count": null,
   "metadata": {},
   "outputs": [],
   "source": []
  }
 ],
 "metadata": {
  "hide_input": false,
  "kernelspec": {
   "display_name": "Python 3 (ipykernel)",
   "language": "python",
   "name": "python3"
  },
  "language_info": {
   "codemirror_mode": {
    "name": "ipython",
    "version": 3
   },
   "file_extension": ".py",
   "mimetype": "text/x-python",
   "name": "python",
   "nbconvert_exporter": "python",
   "pygments_lexer": "ipython3",
   "version": "3.9.7"
  },
  "varInspector": {
   "cols": {
    "lenName": 16,
    "lenType": 16,
    "lenVar": 40
   },
   "kernels_config": {
    "python": {
     "delete_cmd_postfix": "",
     "delete_cmd_prefix": "del ",
     "library": "var_list.py",
     "varRefreshCmd": "print(var_dic_list())"
    },
    "r": {
     "delete_cmd_postfix": ") ",
     "delete_cmd_prefix": "rm(",
     "library": "var_list.r",
     "varRefreshCmd": "cat(var_dic_list()) "
    }
   },
   "types_to_exclude": [
    "module",
    "function",
    "builtin_function_or_method",
    "instance",
    "_Feature"
   ],
   "window_display": false
  }
 },
 "nbformat": 4,
 "nbformat_minor": 4
}
